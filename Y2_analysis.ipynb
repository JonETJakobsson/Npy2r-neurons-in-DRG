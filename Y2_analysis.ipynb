{
 "cells": [
  {
   "cell_type": "markdown",
   "metadata": {},
   "source": [
    "# Analysis of Npy2r expression neurons in Usoskin *et al* and Li *et al* DRG scRNAseq experiment\n",
    "\n",
    "This analysis is part of Ma and Gao *et al* 2018. Several datasets has been produced using scRNAseq on DRG tissue, here we will analyse cells from Li *et al* (GEO accession: **GSE63576**) and Usoskin *et al* (**GSE59739**).\n",
    "\n",
    "We want to investigate only Npy2r expressing neurons, with relation to predefined cell types (Usoskin), and to map these cell types onto Li *et al* data, we will use Mutual nearest neighbour (MNN) algorithm (*Haghverdi et al. (2018), Batch effects in single-cell RNA-sequencing data are corrected by matching mutual nearest neighbors, Nature Biotechnology.*) to make the datasets comparable, then train a classifier (*Scikit-learn: Machine Learning in Python, Pedregosa et al., JMLR 12, pp. 2825-2830, 2011.*) to predict celltype on Li *et al* cells. "
   ]
  },
  {
   "cell_type": "code",
   "execution_count": 1,
   "metadata": {},
   "outputs": [
    {
     "name": "stderr",
     "output_type": "stream",
     "text": [
      "C:\\Users\\jonja158\\AppData\\Local\\Continuum\\anaconda3\\lib\\site-packages\\h5py\\__init__.py:36: FutureWarning: Conversion of the second argument of issubdtype from `float` to `np.floating` is deprecated. In future, it will be treated as `np.float64 == np.dtype(float).type`.\n",
      "  from ._conv import register_converters as _register_converters\n"
     ]
    },
    {
     "name": "stdout",
     "output_type": "stream",
     "text": [
      "scanpy==0+unknown anndata==0.6.10 numpy==1.14.0 scipy==1.0.0 pandas==0.22.0 scikit-learn==0.19.1 statsmodels==0.8.0 python-igraph==0.7.1+4.bed07760 louvain==0.6.1 \n"
     ]
    }
   ],
   "source": [
    "import pandas as pd\n",
    "import scanpy.api as sc\n",
    "import scipy as sp\n",
    "import numpy as np\n",
    "import matplotlib\n",
    "#Makes the text in figures editable in Illustrator\n",
    "matplotlib.rcParams['pdf.fonttype'] = 42\n",
    "matplotlib.rcParams['ps.fonttype'] = 42\n",
    "sc.logging.print_versions()"
   ]
  },
  {
   "cell_type": "markdown",
   "metadata": {},
   "source": [
    "## Loading data\n",
    "We start by importin Usoskin *et al* dataset and load it into a anndata object. We further import the meta data and append that to adata. We remove all unclassified neruons by only selecting the cell types: 'NP1', 'TH', 'NF5', 'NF2', 'NF3', 'NP2', 'PEP2', 'NF4', 'PEP1', 'NF1', 'NP3'. We then logaritmize the molecule reads."
   ]
  },
  {
   "cell_type": "code",
   "execution_count": 2,
   "metadata": {},
   "outputs": [],
   "source": [
    "#Load Count matrix\n",
    "uso_data =pd.read_csv(\"Data/RPM_table.csv\", index_col=0, sep = \";\", decimal=\",\")\n",
    "adata_u = sc.AnnData(uso_data.values.T)\n",
    "adata_u.obs_names = uso_data.columns\n",
    "adata_u.var_names = uso_data.index"
   ]
  },
  {
   "cell_type": "code",
   "execution_count": 3,
   "metadata": {},
   "outputs": [],
   "source": [
    "#Load Meta data\n",
    "meta = pd.read_csv(\"Data/metadata_cells.csv\", sep = \";\", index_col=\"Sample ID\")\n",
    "adata_u.obs = meta\n",
    "good_cells = [\"NP1\", 'TH', 'NF5', 'NF2', 'NF3', 'NP2', 'PEP2', 'NF4', 'PEP1', 'NF1', 'NP3']\n",
    "keep = [True if cell_type in good_cells else False for cell_type in adata_u.obs[\"Level 3\"]]\n",
    "adata_u = adata_u[keep]"
   ]
  },
  {
   "cell_type": "code",
   "execution_count": 4,
   "metadata": {},
   "outputs": [],
   "source": [
    "#Normalize and save raw\n",
    "sc.pp.normalize_per_cell(adata_u, counts_per_cell_after= 20000)\n",
    "#sc.pp.normalize_per_cell(adata_u)\n",
    "adata_u.raw = sc.pp.log1p(adata_u, copy=True)\n",
    "sc.pp.log1p(adata_u)"
   ]
  },
  {
   "cell_type": "markdown",
   "metadata": {},
   "source": [
    "Next we load Li *et al* data and logaritmize the reads."
   ]
  },
  {
   "cell_type": "code",
   "execution_count": 5,
   "metadata": {},
   "outputs": [
    {
     "name": "stderr",
     "output_type": "stream",
     "text": [
      "C:\\Users\\jonja158\\AppData\\Local\\Continuum\\anaconda3\\lib\\site-packages\\ipykernel_launcher.py:1: ParserWarning: Falling back to the 'python' engine because the 'c' engine does not support regex separators (separators > 1 char and different from '\\s+' are interpreted as regex); you can avoid this warning by specifying engine='python'.\n",
      "  \"\"\"Entry point for launching an IPython kernel.\n"
     ]
    }
   ],
   "source": [
    "li_data = pd.read_csv(\"Data/GSE63576_DRG_neurons_RNA_Seq.txt.gz\", sep = \"\\\\t\", index_col = 0)\n",
    "adata_l = sc.AnnData(li_data.values.T)\n",
    "adata_l.obs_names = li_data.columns\n",
    "adata_l.var_names = li_data.index"
   ]
  },
  {
   "cell_type": "code",
   "execution_count": 6,
   "metadata": {},
   "outputs": [],
   "source": [
    "sc.pp.normalize_per_cell(adata_l, counts_per_cell_after= 20000)\n",
    "#sc.pp.normalize_per_cell(adata_l)\n",
    "adata_l.raw = sc.pp.log1p(adata_l, copy=True)\n",
    "sc.pp.log1p(adata_l)"
   ]
  },
  {
   "cell_type": "markdown",
   "metadata": {},
   "source": [
    "## Merging of datasets\n",
    "After MNN transformation of the datasets, it is not recomended to investigate gene expression levels. So here we save a complete and unmodified merge of the datasets that we can return to later and add the detected cell types to. Using \"outer\" join, genes not expressed, and hence not included in the dataset are assumed to have expression 0 in all cells."
   ]
  },
  {
   "cell_type": "code",
   "execution_count": 7,
   "metadata": {},
   "outputs": [
    {
     "name": "stdout",
     "output_type": "stream",
     "text": [
      "622 cells comes from Usoskin dataset\n",
      "204 cells comes from Li dataset\n"
     ]
    }
   ],
   "source": [
    "#here we create a merge version of Usoskin and Li datasets which implies 0 expression for genes not shared between the datasets.\n",
    "#outer join keeps genes from both datasets\n",
    "merge = adata_u.concatenate(adata_l, batch_categories=[\"Usoskin\", \"Li\"], join=\"outer\")\n",
    "\n",
    "#Joining designates NaN instead of 0. here we change all NaN in the X matrix to 0's\n",
    "merge.X = np.nan_to_num(merge.X)\n",
    "print((merge.obs[\"batch\"] == \"Usoskin\").sum(), \"cells comes from Usoskin dataset\")\n",
    "print((merge.obs[\"batch\"] == \"Li\").sum(), \"cells comes from Li dataset\")"
   ]
  },
  {
   "cell_type": "markdown",
   "metadata": {},
   "source": [
    "We can confirm that the technical variation between the two datasets are prohibitly large for any cell - cell comparisons by plotting the two first PCA componens"
   ]
  },
  {
   "cell_type": "code",
   "execution_count": 8,
   "metadata": {},
   "outputs": [
    {
     "name": "stdout",
     "output_type": "stream",
     "text": [
      "... storing 'Content' as categorical\n",
      "... storing 'Level 1' as categorical\n",
      "... storing 'Level 2' as categorical\n",
      "... storing 'Level 3' as categorical\n",
      "... storing 'Library' as categorical\n",
      "... storing 'Picking ToC' as categorical\n",
      "... storing 'Picking sessions' as categorical\n",
      "... storing 'Sex' as categorical\n",
      "saving figure to file ./figures/pca_scatter_pre MNN.pdf\n"
     ]
    },
    {
     "data": {
      "image/png": "[encoded data removed]",
      "text/plain": [
       "<Figure size 570.24x288 with 1 Axes>"
      ]
     },
     "metadata": {},
     "output_type": "display_data"
    }
   ],
   "source": [
    "sc.tl.pca(merge)\n",
    "sc.pl.pca_scatter(merge, color=\"batch\", save = \"_pre MNN.pdf\")"
   ]
  },
  {
   "cell_type": "markdown",
   "metadata": {},
   "source": [
    "## MNN\n",
    "we want to only use the highy variable genes (HVG) shared between the two datasets for MNN transformation. First, HVG are filtered out in both datasets. Making an \"inner\" join keeps only the genes that are shared. We now have a list of HVG shared between the datasets."
   ]
  },
  {
   "cell_type": "code",
   "execution_count": 9,
   "metadata": {},
   "outputs": [
    {
     "name": "stderr",
     "output_type": "stream",
     "text": [
      "c:\\users\\jonja158\\github\\scanpy\\scanpy\\preprocessing\\simple.py:359: RuntimeWarning: invalid value encountered in greater_equal\n",
      "  gene_subset = df['dispersion_norm'].values >= disp_cut_off\n"
     ]
    },
    {
     "name": "stdout",
     "output_type": "stream",
     "text": [
      "Performing cosine normalization...\n",
      "Starting MNN correct iteration. Reference batch: 0\n",
      "Step 1 of 1: processing batch 1\n",
      "  Looking for MNNs...\n",
      "  Computing correction vectors...\n",
      "  Adjusting variance...\n",
      "  Applying correction...\n",
      "MNN correction complete. Gathering output...\n",
      "Packing AnnData object...\n",
      "Done.\n"
     ]
    }
   ],
   "source": [
    "#filter HVG for usoskin and Li dataset\n",
    "sc.pp.filter_genes_dispersion(adata_u, n_top_genes=1000)\n",
    "sc.pp.filter_genes_dispersion(adata_l, n_top_genes=1000)\n",
    "\n",
    "#Merging using inner join will keep only varables that are incommon\n",
    "merge_inner = adata_u.concatenate(adata_l, batch_categories=[\"Usoskin\", \"Li\"], join=\"inner\")\n",
    "\n",
    "#makes a list of shared HVG to use for MNN correction\n",
    "join_genes = list(merge_inner.var_names)\n",
    "\n",
    "#Runs the MNN using only shared HVG\n",
    "mnn = sc.pp.mnn_correct(adata_u[:,join_genes], adata_l[:,join_genes], batch_categories = [\"Usoskin\", \"Li\"], save_raw = True)[0]"
   ]
  },
  {
   "cell_type": "markdown",
   "metadata": {},
   "source": [
    "## Cell type classification\n",
    "After MNN transformation, we want to confirm that the datasets are no longer the main driver of varance, but that cell types drives the variance. We can do this using PCA again."
   ]
  },
  {
   "cell_type": "code",
   "execution_count": null,
   "metadata": {},
   "outputs": [],
   "source": []
  },
  {
   "cell_type": "code",
   "execution_count": 10,
   "metadata": {},
   "outputs": [
    {
     "name": "stdout",
     "output_type": "stream",
     "text": [
      "... storing 'Content' as categorical\n",
      "... storing 'Level 1' as categorical\n",
      "... storing 'Level 2' as categorical\n",
      "... storing 'Level 3' as categorical\n",
      "... storing 'Library' as categorical\n",
      "... storing 'Picking ToC' as categorical\n",
      "... storing 'Picking sessions' as categorical\n",
      "... storing 'Sex' as categorical\n",
      "saving figure to file ./figures/pca_scatter_post MNN.pdf\n"
     ]
    },
    {
     "data": {
      "image/png": "[encoded data removed]",
      "text/plain": [
       "<Figure size 570.24x288 with 1 Axes>"
      ]
     },
     "metadata": {},
     "output_type": "display_data"
    }
   ],
   "source": [
    "sc.tl.pca(mnn)\n",
    "sc.pl.pca(mnn, color=\"batch\", save = \"_post MNN.pdf\")"
   ]
  },
  {
   "cell_type": "markdown",
   "metadata": {},
   "source": [
    "We can further see using Uniform manifold approximation and projection (UMAP) that Usoskin *et al* cell types indeed repesents the clusters produced, and that Li *et al* cells (**nan**) joins these clusters."
   ]
  },
  {
   "cell_type": "code",
   "execution_count": 11,
   "metadata": {},
   "outputs": [],
   "source": [
    "sc.pp.neighbors(mnn, n_neighbors=15)\n",
    "sc.tl.louvain(mnn)\n",
    "sc.tl.umap(mnn, random_state=3)"
   ]
  },
  {
   "cell_type": "code",
   "execution_count": 12,
   "metadata": {},
   "outputs": [
    {
     "data": {
      "text/plain": [
       "[[0.5162451817565703, 0.7981301372254046, 0.6690694584967207],\n",
       " [0.4266163127733914, 0.7379981297940461, 0.5813516328306669],\n",
       " [0.3392250297263762, 0.6658291846880431, 0.4858262763985476],\n",
       " [0.2617458326175084, 0.5858183086057607, 0.3919662825261784],\n",
       " [0.19013055534958329, 0.49199924633761716, 0.29681591932464446],\n",
       " [0.5707118165298367, 0.7344818176982066, 0.8619121779183108],\n",
       " [0.3795314568916205, 0.6013832745017109, 0.7215658416424379],\n",
       " [0.20582163571504947, 0.44122891956331295, 0.5263371175380758],\n",
       " [0.8280245642990223, 0.6642545631306521, 0.5368242029105483],\n",
       " [0.5541158211405014, 0.3187085372922378, 0.2336003393174752],\n",
       " 'lightgrey',\n",
       " 'red']"
      ]
     },
     "execution_count": 12,
     "metadata": {},
     "output_type": "execute_result"
    }
   ],
   "source": [
    "#Sets a new color scheme for the different level 3 cell types\n",
    "import seaborn as sns\n",
    "import matplotlib.colors\n",
    "NF_color = sns.cubehelix_palette(n_colors=5, start=2, rot=0.1, gamma=0.7, light=0.6, dark=0.25, hue=1)\n",
    "NP_color = sns.cubehelix_palette(n_colors=3, start=2.5, rot=0.1, gamma=0.7, light=0.6, dark=0.25, hue=1)\n",
    "PEP_color = sns.cubehelix_palette(n_colors=2, start=4, rot=0.1, gamma=0.7, light=0.6, dark=0.25, hue=1)\n",
    "TH_color = [\"lightgrey\"]\n",
    "level_3_color = NF_color + NP_color + PEP_color + TH_color + [\"red\"]\n",
    "level_3_color"
   ]
  },
  {
   "cell_type": "code",
   "execution_count": 13,
   "metadata": {},
   "outputs": [
    {
     "name": "stdout",
     "output_type": "stream",
     "text": [
      "saving figure to file ./figures/umap_pre_lsvm_prediction.pdf\n"
     ]
    },
    {
     "data": {
      "image/png": "[encoded data removed]",
      "text/plain": [
       "<Figure size 570.24x288 with 1 Axes>"
      ]
     },
     "metadata": {},
     "output_type": "display_data"
    }
   ],
   "source": [
    "sc.pl.umap(mnn, color=[\"Level 3\"], palette = level_3_color, save = \"_pre_lsvm_prediction.pdf\")"
   ]
  },
  {
   "cell_type": "markdown",
   "metadata": {},
   "source": [
    "Lets train a classifier (LinearSVC) using the Usoskin count matrix as predictor varables, and the cell types as lables. "
   ]
  },
  {
   "cell_type": "code",
   "execution_count": 14,
   "metadata": {},
   "outputs": [],
   "source": [
    "train_X = mnn.X[mnn.obs[\"batch\"] == \"Usoskin\", :]\n",
    "train_y =mnn.obs[\"Level 3\"][mnn.obs[\"batch\"] == \"Usoskin\"].values\n",
    "test_X =  mnn.X[mnn.obs[\"batch\"] == \"Li\", :]\n"
   ]
  },
  {
   "cell_type": "code",
   "execution_count": 15,
   "metadata": {},
   "outputs": [
    {
     "name": "stdout",
     "output_type": "stream",
     "text": [
      "0.9887459807073955\n",
      "0.9485530546623794\n"
     ]
    }
   ],
   "source": [
    "from sklearn.model_selection import cross_val_score\n",
    "from sklearn.svm import LinearSVC\n",
    "from sklearn.neighbors import KNeighborsClassifier\n",
    "\n",
    "#evaluating linearSVC\n",
    "clf_lsvm = LinearSVC(dual=False)\n",
    "clf_lsvm.fit(train_X, train_y)\n",
    "print(clf_lsvm.score(train_X, train_y))\n",
    "\n",
    "#using cross_val_score to estimate the overfitting and accuracy (Not working 20180917)\n",
    "#cross_val_score(estimator=clf_lsvm, X=train_X, y=train_y)\n",
    "\n",
    "#evaluating Kneigbors\n",
    "clf_knc = KNeighborsClassifier(n_neighbors=5)\n",
    "clf_knc.fit(train_X, train_y)\n",
    "print(clf_knc.score(train_X, train_y))\n"
   ]
  },
  {
   "cell_type": "markdown",
   "metadata": {},
   "source": [
    "The most accurate classifier is lsvm"
   ]
  },
  {
   "cell_type": "code",
   "execution_count": 16,
   "metadata": {},
   "outputs": [],
   "source": [
    "labels = clf_lsvm.predict(test_X)\n",
    "#prob = clf_knc.predict_proba(mnn.X)\n",
    "prob = clf_lsvm.decision_function(mnn.X)\n"
   ]
  },
  {
   "cell_type": "code",
   "execution_count": 17,
   "metadata": {},
   "outputs": [],
   "source": [
    "import numpy as np\n",
    "\n",
    "prob = np.max(prob, axis = 1)"
   ]
  },
  {
   "cell_type": "code",
   "execution_count": null,
   "metadata": {},
   "outputs": [],
   "source": [
    "mnn.obs[\"Level 3\"][mnn.obs[\"batch\"] == \"Li\"] = labels\n",
    "mnn.obs[\"probability\"] = prob"
   ]
  },
  {
   "cell_type": "markdown",
   "metadata": {},
   "source": [
    "We can now plot our new labels on the Li *et al* cells, and they seem quite well labled. The probability is the confidance of the lable assignment."
   ]
  },
  {
   "cell_type": "code",
   "execution_count": null,
   "metadata": {},
   "outputs": [],
   "source": [
    "level_3_color\n",
    "sc.pl.umap(mnn, color=[\"Level 3\"], palette = level_3_color, save=\"_post_lsvm_prediction.pdf\")\n",
    "sc.pl.umap(mnn, color=[\"probability\"])"
   ]
  },
  {
   "cell_type": "markdown",
   "metadata": {},
   "source": [
    "#Gene expression analysis on the merge dataset\n",
    "\n",
    "To analyse gene expression, we will have to go back to the original \"outer\" join dataset, with the gene expression levels untouched. We can add the labels we just created to that dataset"
   ]
  },
  {
   "cell_type": "code",
   "execution_count": null,
   "metadata": {},
   "outputs": [],
   "source": [
    "#Move lables and probalilities to original merge dataset for further expresion analysis\n",
    "merge.obs[\"Level 3\"] = mnn.obs[\"Level 3\"]\n",
    "merge.obs[\"Probability\"] = mnn.obs[\"probability\"]"
   ]
  },
  {
   "cell_type": "markdown",
   "metadata": {},
   "source": [
    "# Analysis of Npy2r expressing neurons\n",
    "Lets start by looking at the gene expression distibution of *Npy2r*. Here we see that highest expression is around 3 and most cells are at 0. To capture cells that have quite low expression, we will use a cut off of 0.01 expression. this ensures that we get the cells just above 0."
   ]
  },
  {
   "cell_type": "code",
   "execution_count": null,
   "metadata": {},
   "outputs": [],
   "source": [
    "sc.pl.violin(merge, keys=\"Npy2r\")"
   ]
  },
  {
   "cell_type": "markdown",
   "metadata": {},
   "source": [
    "We expect Npy2r to be expressed in more than one cell type. Here we will start by plotting the gene expression of many itch related genes grouped by cell type. We select all cells that have more than 0.01 expression of Npy2r."
   ]
  },
  {
   "cell_type": "code",
   "execution_count": null,
   "metadata": {},
   "outputs": [],
   "source": [
    "#selects only Npy2r expressing cells\n",
    "y2 = merge[merge[:,merge.var_names == \"Npy2r\"].X > 0.01, :]\n",
    "\n",
    "print(sum(y2.obs[\"batch\"] == \"Usoskin\"), \" cells comes from Usoskin et al\")\n",
    "print(sum(y2.obs[\"batch\"] == \"Li\"), \" cells comes from Li et al\")"
   ]
  },
  {
   "cell_type": "code",
   "execution_count": null,
   "metadata": {},
   "outputs": [],
   "source": [
    "#Here we ads some decoration to our plot to explain gene functions\n",
    "var_names = [\"Npy2r\",\n",
    "             \"Sst\",\n",
    "             \"Nppb\",\n",
    "             \"Il31ra\",\n",
    "             \"Osmr\",\n",
    "             \"Cysltr2\",\n",
    "             \"Plcb3\",\n",
    "             \"Trpv1\",\n",
    "             \"Trpa1\",\n",
    "             \"Htr1f\",\n",
    "             \"Htr2a\",\n",
    "             \"Htr7\",\n",
    "             \"Hrh1\",\n",
    "             \"Hrh4\",\n",
    "             \"Hrh3\",\n",
    "             \"Mrgprx1\",\n",
    "             \"Mrgpra3\",\n",
    "             \"F2rl1\"\n",
    "             ]\n",
    "vgl = [\"Neuro peptides\",\n",
    "       \"IL-31\",\n",
    "       \"Leukotriene receptor\",\n",
    "       \"Trp receptor/signaling\",\n",
    "       \"Serotonin\",\n",
    "       \"Histamin\",\n",
    "       \"Mrgp receptor\",\n",
    "       \"Par2\"\n",
    "      ]\n",
    "vgp = [(1,2),\n",
    "       (3,4),\n",
    "       (5,5),\n",
    "       (6,8),\n",
    "       (9,11),\n",
    "       (12,14),\n",
    "       (15,16),\n",
    "       (17,17)\n",
    "      ]\n",
    "sc.pl.stacked_violin(y2, var_names=var_names, groupby=\"Level 3\", stripplot=True, jitter=0.3, figsize=(5,10), var_group_labels=vgl, var_group_positions=vgp, save = \"_Y2_all_cells.pdf\")"
   ]
  },
  {
   "cell_type": "markdown",
   "metadata": {},
   "source": [
    "Npy2r is expressed mostly in NP3 with high expression, and moderatly in PEP1 and PEP2. Expression is present in other cell types, but at a very low level."
   ]
  },
  {
   "cell_type": "markdown",
   "metadata": {},
   "source": [
    "Usoskin *et al* did investigate the modality of the different cell types, and PEP1 and PEP2 are mostly nociceptive. Further more, NP3 was concluded to be related to inflammatory itch. Here we select only the NP1-3 cells to focus the investigation on itch related neurons. Note that the PEP1 and PEP2 Npy2r expressing neurons could explain the phenotype seen by Arcote *et al*.\n"
   ]
  },
  {
   "cell_type": "code",
   "execution_count": null,
   "metadata": {},
   "outputs": [],
   "source": [
    "#Selects only NP1-3\n",
    "select_cell_type = [True if celltype in [\"NP1\", \"NP2\", \"NP3\"] else False for celltype in merge.obs[\"Level 3\"]]\n",
    "#Selects only expression over 0.01\n",
    "select_y2 = merge[:,merge.var_names == \"Npy2r\"].X > 0.01\n",
    "#Both has to be true\n",
    "select = np.logical_and(select_cell_type, select_y2)\n",
    "#Creates new adata object with our cells\n",
    "y2_NP = merge[select]\n",
    "\n",
    "print(sum(y2_NP.obs[\"Level 3\"] == \"NP1\"), \" cells comes from NP1\")\n",
    "print(sum(y2_NP.obs[\"Level 3\"] == \"NP2\"), \" cells comes from NP2\")\n",
    "print(sum(y2_NP.obs[\"Level 3\"] == \"NP3\"), \" cells comes from NP3\")\n",
    "\n",
    "y2_NP"
   ]
  },
  {
   "cell_type": "code",
   "execution_count": null,
   "metadata": {},
   "outputs": [],
   "source": [
    "sc.pl.stacked_violin(y2_NP, var_names=var_names, stripplot=True, jitter=0.3,var_group_labels=vgl, var_group_positions=vgp, figsize=(5,2), save= \"_NP_cell types.pdf\")"
   ]
  },
  {
   "cell_type": "markdown",
   "metadata": {},
   "source": [
    "Npy2r is coexpressed with Sst, Nppb, I31ra, Osmr, Cysltr2, TrpV1, Plcb and Htr1f in NP1-3 cells. "
   ]
  },
  {
   "cell_type": "markdown",
   "metadata": {},
   "source": [
    "# Differentially expressed genes\n",
    "We have already seen that the Y2 neurons expresses many itch related genes, lets see the top 40 DE genes for these cells compared to the rest of all neurons in the datasets."
   ]
  },
  {
   "cell_type": "code",
   "execution_count": null,
   "metadata": {},
   "outputs": [],
   "source": [
    "from pandas.api.types import CategoricalDtype\n",
    "\n",
    "#maps new names onto the selection vector to make the naming prittier\n",
    "y2dict = {True: \"Y2\", False: \"Other\"}\n",
    "new_select = []\n",
    "for cell in select:\n",
    "    new_select.append(y2dict.get(cell))\n",
    "\n",
    "merge.obs[\"Y2_NP\"] = new_select\n",
    "#store as categorical (should be done automatically by scanpy, but bugs...)\n",
    "merge.obs[\"Y2_NP\"] = merge.obs[\"Y2_NP\"].astype(CategoricalDtype())\n"
   ]
  },
  {
   "cell_type": "code",
   "execution_count": null,
   "metadata": {},
   "outputs": [],
   "source": [
    "#compares only for the Y2 group agains other, we are not interested in the \"other\" agains the Y2\n",
    "sc.tl.rank_genes_groups(merge, groupby=\"Y2_NP\", groups = [\"Y2\"])"
   ]
  },
  {
   "cell_type": "code",
   "execution_count": null,
   "metadata": {},
   "outputs": [],
   "source": [
    "sc.pl.rank_genes_groups_matrixplot(merge, groupby=\"Y2_NP\", n_genes=40, save= \"_Y2_NP specific genes.pdf\")"
   ]
  },
  {
   "cell_type": "markdown",
   "metadata": {},
   "source": [
    "In this list, we recognize many of our itch related genes, but also many new interesting gens. "
   ]
  },
  {
   "cell_type": "markdown",
   "metadata": {},
   "source": [
    "# Conclusion\n",
    "In this analysis, we merge two datasets from different experiments in order to compare cells related to cell types, and not only gene expression levels. Merging success was confirmed as the cells clustered based on cell phenotype, and not on dataset origin. We then used a simple machine learning algorithm to deduce the cell types of Li cells based on the preexisting nomenclture from Usoskin. \n",
    "\n",
    "In order to compare gene expression levels between the datasets, we normalized the gene expression for each cell, which in theory should let us compare the gene level across the different datasets.\n",
    "\n",
    "We found that the highest expression levels of Npy2r were found in the itch related cell type NP3, and that this population showed expression of many itch related genes that can illuminate the phenotype we have seen in behaiviour studies."
   ]
  },
  {
   "cell_type": "code",
   "execution_count": null,
   "metadata": {},
   "outputs": [],
   "source": []
  }
 ],
 "metadata": {
  "kernelspec": {
   "display_name": "Python 3",
   "language": "python",
   "name": "python3"
  },
  "language_info": {
   "codemirror_mode": {
    "name": "ipython",
    "version": 3
   },
   "file_extension": ".py",
   "mimetype": "text/x-python",
   "name": "python",
   "nbconvert_exporter": "python",
   "pygments_lexer": "ipython3",
   "version": "3.6.4"
  }
 },
 "nbformat": 4,
 "nbformat_minor": 2
}
